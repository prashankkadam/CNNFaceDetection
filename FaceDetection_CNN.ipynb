{
  "nbformat": 4,
  "nbformat_minor": 0,
  "metadata": {
    "colab": {
      "name": "FaceDetection_CNN.ipynb",
      "version": "0.3.2",
      "provenance": [],
      "collapsed_sections": [],
      "include_colab_link": true
    },
    "kernelspec": {
      "name": "python3",
      "display_name": "Python 3"
    }
  },
  "cells": [
    {
      "cell_type": "markdown",
      "metadata": {
        "id": "view-in-github",
        "colab_type": "text"
      },
      "source": [
        "<a href=\"https://colab.research.google.com/github/prashankkadam/CNNFaceDetection/blob/master/FaceDetection_CNN.ipynb\" target=\"_parent\"><img src=\"https://colab.research.google.com/assets/colab-badge.svg\" alt=\"Open In Colab\"/></a>"
      ]
    },
    {
      "cell_type": "markdown",
      "metadata": {
        "id": "Ysrw90b_S-R-",
        "colab_type": "text"
      },
      "source": [
        "## **Face Detection using CNNs**"
      ]
    },
    {
      "cell_type": "markdown",
      "metadata": {
        "id": "ntga1yHuTNvz",
        "colab_type": "text"
      },
      "source": [
        "Importing the required libraries"
      ]
    },
    {
      "cell_type": "code",
      "metadata": {
        "id": "usxj3K9CS0Mk",
        "colab_type": "code",
        "outputId": "ccfc9b67-ecd4-4c2b-9d7c-cdd4929e61f8",
        "colab": {
          "base_uri": "https://localhost:8080/",
          "height": 34
        }
      },
      "source": [
        "import numpy as np \n",
        "from keras import layers \n",
        "from keras import models \n",
        "from keras import regularizers\n",
        "from keras import optimizers\n",
        "from keras.preprocessing.image import ImageDataGenerator\n",
        "import matplotlib.pyplot as plt"
      ],
      "execution_count": 0,
      "outputs": [
        {
          "output_type": "stream",
          "text": [
            "Using TensorFlow backend.\n"
          ],
          "name": "stderr"
        }
      ]
    },
    {
      "cell_type": "markdown",
      "metadata": {
        "id": "e_7UhYbnTxdE",
        "colab_type": "text"
      },
      "source": [
        "Assigning the location of training and test data"
      ]
    },
    {
      "cell_type": "code",
      "metadata": {
        "id": "BKkm1F5eTw-k",
        "colab_type": "code",
        "colab": {}
      },
      "source": [
        "train_data = ''\n",
        "test_data = ''"
      ],
      "execution_count": 0,
      "outputs": []
    },
    {
      "cell_type": "markdown",
      "metadata": {
        "id": "-sCEf5dPUFHd",
        "colab_type": "text"
      },
      "source": [
        "Initializing the parameters required for the network"
      ]
    },
    {
      "cell_type": "code",
      "metadata": {
        "id": "xlUBQ2BlTslN",
        "colab_type": "code",
        "colab": {}
      },
      "source": [
        "max_count = 100\n",
        "reg_val = []\n",
        "lr_val = []\n",
        "test_loss = []\n",
        "test_acc = []"
      ],
      "execution_count": 0,
      "outputs": []
    },
    {
      "cell_type": "markdown",
      "metadata": {
        "id": "u3F-3O7VUhhs",
        "colab_type": "text"
      },
      "source": [
        "1.   Sample learning rate and regularization from a uniform distribution\n",
        "2.   Defining the architecture of the model\n",
        "\n"
      ]
    },
    {
      "cell_type": "code",
      "metadata": {
        "id": "bdgeOMqYUZGO",
        "colab_type": "code",
        "colab": {}
      },
      "source": [
        "for i in range(max_count):\n",
        "  print(\"*\"*30)\n",
        "  print(str(i+1)+\"/\"+str(max_count))\n",
        "  print(\"*\"*30)\n",
        "  \n",
        "  reg = 10**(np.random.uniform(-4,0))\n",
        "  lr=10**(np.random.uniform(-3,-4))\n",
        "  \n",
        "  model =  model.Sequential()\n",
        "  model.add(layers.Conv2D(32,(3,3),activation='relu',input_shape=(60,60,3)))\n",
        "  model.add(layers.MaxPooling2D((2,2)))\n",
        "  model.add(layers.Conv2D(64,(3,3),activation='relu'))\n",
        "  model.add(layers.MaxPooling2D(2,2))\n",
        "  model.add(layers.Conv2D(128,(3,3),activation='relu'))\n",
        "  model.add(layers.MaxPooling2D(2,2))\n",
        "  model.add(layers.Conv2D(128,(3,3),activation='relu'))\n",
        "  model.add(layers.MaxPooling2D(2,2))\n",
        "  model.add(layers.Flatten())\n",
        "  \n",
        "  model.add(layers.Dense(512,activation='relu',kernel_regularizer=regularizers.12(reg)\n",
        "  model.add(layers.Dense(1,activation='sigmoid',kernel_regularizer=regularizers.12(reg)\n",
        "\n",
        "# Summarizing the model:\n",
        "  model.summary()\n",
        "\n",
        "  model.compile(loss='binary_crossentropy',optimizers=optimizers.RMSprop(lr=lr),metrics=['acc']) \n",
        "  \n",
        "# Rescale all the images:\n",
        "  train_datagen=ImageDataGenerator(rescale=1./255)\n",
        "  test_datagen=ImageDataGenerator(rescale=1./255)\n",
        "                         \n",
        "  train_generator=train_datagen.flow_from_directory(\n",
        "    train_dir,\n",
        "    target_size=(60,60),\n",
        "    batch_size=20,\n",
        "    class_mode='binary')\n",
        "                         \n",
        "  train_generator=train_datagen.flow_from_directory(\n",
        "    test_dir,\n",
        "    target_size=(60,60),\n",
        "    batch_size=20,\n",
        "    class_mode='binary')\n",
        "                         \n",
        "# Fitting the model                           \n",
        "  history=model.fit_generator(\n",
        "     train_generator,\n",
        "     steps_per_epoch=100,\n",
        "     epochs=5,\n",
        "     validation_data=test_generator,\n",
        "     validation_steps=50)\n",
        "                         \n",
        "  reg_val.append(reg)\n",
        "  lr_val.append(lr)\n",
        "  test_loss.append(history.history['val_loss'])\n",
        "  test_acc.append(history.history['val_acc'])\n",
        "                         \n",
        "# Saving the model\n",
        "model.save(face_nonface.h5)                         \n",
        "                         "
      ],
      "execution_count": 0,
      "outputs": []
    },
    {
      "cell_type": "markdown",
      "metadata": {
        "id": "pk1KRoHCvKRO",
        "colab_type": "text"
      },
      "source": [
        "Plotting accuracy and loss"
      ]
    },
    {
      "cell_type": "code",
      "metadata": {
        "id": "Bfa318pIvG2i",
        "colab_type": "code",
        "colab": {}
      },
      "source": [
        "acc=history.history['acc']\n",
        "test_acc=history.history['val_acc']\n",
        "loss=history.history['loss']\n",
        "test_loss=history.history['val_loss']\n",
        "epochs=range(1,len(acc)+1)\n",
        "\n",
        "plt.plot(epochs,acc,'bo',label='TRAINING ACCURACY')\n",
        "plt.plot(epochs,test_acc,'b',label='TEST ACCURACY')\n",
        "plt.title('TRAINING VS TEST ACCURACY')\n",
        "plt.xlabel('Epochs')\n",
        "plt.ylabel('Accuracy')\n",
        "plt.legend()\n",
        "\n",
        "plt.figure()"
      ],
      "execution_count": 0,
      "outputs": []
    },
    {
      "cell_type": "code",
      "metadata": {
        "id": "-J7rTrmNx09e",
        "colab_type": "code",
        "colab": {}
      },
      "source": [
        "plt.plot(epochs,loss,'bo',label='TRAINING LOSS')\n",
        "plt.plot(epochs,test_loss,'b',label='TEST LOSS')\n",
        "plt.title('TRAINING AND TESTING LOSS')\n",
        "plt.xlabel('Epochs')\n",
        "plt.ylabel('Loss')\n",
        "plt.legend()\n",
        "\n",
        "plt.show()"
      ],
      "execution_count": 0,
      "outputs": []
    },
    {
      "cell_type": "markdown",
      "metadata": {
        "id": "jQDTF6v8ym1j",
        "colab_type": "text"
      },
      "source": [
        "Finding the highest and the lowest test accuracy"
      ]
    },
    {
      "cell_type": "code",
      "metadata": {
        "id": "p2TWuuoRyv_1",
        "colab_type": "code",
        "colab": {}
      },
      "source": [
        "print (\"Finding the highest Test Accuracy and lowest Test Loss...\")\n",
        "\n",
        "index1=0\n",
        "index2=0\n",
        "max_test_acc=max(test_acc)\n",
        "min_test_loss=min(test_loss)\n",
        "\"\"\"\n",
        "for i in range(max_count):\n",
        "\ttemp1=max(test_acc[i])\n",
        "\tif(temp1>=max_test_acc):\n",
        "    \t\tmax_test_acc=temp1\n",
        "\t\tindex1=i\n",
        "        temp2=min(test_loss[i])\n",
        "\tif(temp2<min_test_loss):\n",
        "\t\tmin_test_loss=temp2\n",
        "\t\tindex2=i\t  \n",
        "\"\"\"\n",
        "print ('Maximum Testing Accuracy:',max_test_acc)\n",
        "print ('Minimum Testing Loss:',min_test_loss)\n",
        "print ('Value of optimum learning rate :',lr_val[index1])\n",
        "print ('Value of optimum regularization:',reg_val[index2])"
      ],
      "execution_count": 0,
      "outputs": []
    }
  ]
}